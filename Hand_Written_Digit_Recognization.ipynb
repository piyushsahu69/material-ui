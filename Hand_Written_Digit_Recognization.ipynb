{
  "nbformat": 4,
  "nbformat_minor": 0,
  "metadata": {
    "colab": {
      "provenance": [],
      "gpuType": "T4",
      "include_colab_link": true
    },
    "kernelspec": {
      "name": "python3",
      "display_name": "Python 3"
    },
    "language_info": {
      "name": "python"
    },
    "accelerator": "GPU"
  },
  "cells": [
    {
      "cell_type": "markdown",
      "metadata": {
        "id": "view-in-github",
        "colab_type": "text"
      },
      "source": [
        "<a href=\"https://colab.research.google.com/github/piyushsahu69/material-ui/blob/master/Hand_Written_Digit_Recognization.ipynb\" target=\"_parent\"><img src=\"https://colab.research.google.com/assets/colab-badge.svg\" alt=\"Open In Colab\"/></a>"
      ]
    },
    {
      "cell_type": "code",
      "source": [
        "import keras\n",
        "from keras.datasets import mnist\n",
        "from keras.models import Sequential\n",
        "from keras.layers import Dense, Dropout, Flatten\n",
        "from keras.layers import Conv2D, MaxPooling2D\n",
        "from keras import backend as K"
      ],
      "metadata": {
        "id": "h6hQ2PcvP2Y8"
      },
      "execution_count": null,
      "outputs": []
    },
    {
      "cell_type": "code",
      "source": [
        "(x_train, y_train), (x_test, y_test) = mnist.load_data()"
      ],
      "metadata": {
        "colab": {
          "base_uri": "https://localhost:8080/"
        },
        "id": "3lbxJXibvUNw",
        "outputId": "3ad4ba7a-151e-4dee-e63d-2a77f6a8d07e"
      },
      "execution_count": null,
      "outputs": [
        {
          "output_type": "stream",
          "name": "stdout",
          "text": [
            "Downloading data from https://storage.googleapis.com/tensorflow/tf-keras-datasets/mnist.npz\n",
            "11490434/11490434 [==============================] - 0s 0us/step\n"
          ]
        }
      ]
    },
    {
      "cell_type": "code",
      "source": [
        "num_of_trainImgs = x_train.shape[0] #60000 here\n",
        "num_of_testImgs = x_test.shape[0] #10000 here\n",
        "img_width = 28\n",
        "img_height = 28\n",
        "\n",
        "x_train = x_train.reshape(x_train.shape[0], img_height, img_width, 1)\n",
        "x_test = x_test.reshape(x_test.shape[0], img_height, img_width, 1)\n",
        "input_shape = (img_height, img_width, 1)\n",
        "\n",
        "x_train = x_train.astype('float32')\n",
        "x_test = x_test.astype('float32')\n",
        "x_train /= 255\n",
        "x_test /= 255"
      ],
      "metadata": {
        "id": "7fcS5Q8kvlF3"
      },
      "execution_count": null,
      "outputs": []
    },
    {
      "cell_type": "code",
      "source": [
        "num_classes = 10\n",
        "y_train = keras.utils.to_categorical(y_train, num_classes)\n",
        "y_test = keras.utils.to_categorical(y_test, num_classes)"
      ],
      "metadata": {
        "id": "HCvhaAW_vrOB"
      },
      "execution_count": null,
      "outputs": []
    },
    {
      "cell_type": "code",
      "source": [
        "model = Sequential()\n",
        "model.add(Conv2D(32, kernel_size=(3, 3),\n",
        "                 activation='relu',\n",
        "                 input_shape=input_shape))\n",
        "model.add(Conv2D(64, (3, 3), activation='relu'))\n",
        "model.add(MaxPooling2D(pool_size=(2, 2)))\n",
        "model.add(Dropout(0.25))\n",
        "model.add(Flatten())\n",
        "model.add(Dense(128, activation='relu'))\n",
        "model.add(Dropout(0.5))\n",
        "model.add(Dense(num_classes, activation='softmax'))"
      ],
      "metadata": {
        "id": "Jzwaupt8vxiW"
      },
      "execution_count": null,
      "outputs": []
    },
    {
      "cell_type": "code",
      "source": [
        "model.compile(loss=keras.losses.categorical_crossentropy,\n",
        "              optimizer=keras.optimizers.Adadelta(),\n",
        "              metrics=['accuracy'])"
      ],
      "metadata": {
        "id": "RcoZYdJswRJs"
      },
      "execution_count": null,
      "outputs": []
    },
    {
      "cell_type": "code",
      "source": [
        "model.fit(x_train, y_train,\n",
        "          batch_size=128,\n",
        "          epochs=40,\n",
        "          verbose=1,\n",
        "          validation_data=(x_test, y_test))"
      ],
      "metadata": {
        "colab": {
          "base_uri": "https://localhost:8080/"
        },
        "id": "TpdBVJJbwVnS",
        "outputId": "8d1e13a5-afba-4eb1-cf07-dc55cdae71b9"
      },
      "execution_count": null,
      "outputs": [
        {
          "output_type": "stream",
          "name": "stdout",
          "text": [
            "Epoch 1/40\n",
            "469/469 [==============================] - 5s 10ms/step - loss: 0.9049 - accuracy: 0.7226 - val_loss: 0.6600 - val_accuracy: 0.8422\n",
            "Epoch 2/40\n",
            "469/469 [==============================] - 4s 9ms/step - loss: 0.8591 - accuracy: 0.7351 - val_loss: 0.6185 - val_accuracy: 0.8492\n",
            "Epoch 3/40\n",
            "469/469 [==============================] - 4s 9ms/step - loss: 0.8218 - accuracy: 0.7455 - val_loss: 0.5847 - val_accuracy: 0.8548\n",
            "Epoch 4/40\n",
            "469/469 [==============================] - 4s 9ms/step - loss: 0.7860 - accuracy: 0.7574 - val_loss: 0.5557 - val_accuracy: 0.8614\n",
            "Epoch 5/40\n",
            "469/469 [==============================] - 4s 9ms/step - loss: 0.7586 - accuracy: 0.7674 - val_loss: 0.5308 - val_accuracy: 0.8662\n",
            "Epoch 6/40\n",
            "469/469 [==============================] - 4s 9ms/step - loss: 0.7317 - accuracy: 0.7724 - val_loss: 0.5097 - val_accuracy: 0.8705\n",
            "Epoch 7/40\n",
            "469/469 [==============================] - 4s 9ms/step - loss: 0.7126 - accuracy: 0.7788 - val_loss: 0.4911 - val_accuracy: 0.8733\n",
            "Epoch 8/40\n",
            "469/469 [==============================] - 4s 9ms/step - loss: 0.6921 - accuracy: 0.7850 - val_loss: 0.4741 - val_accuracy: 0.8787\n",
            "Epoch 9/40\n",
            "469/469 [==============================] - 4s 9ms/step - loss: 0.6728 - accuracy: 0.7913 - val_loss: 0.4594 - val_accuracy: 0.8818\n",
            "Epoch 10/40\n",
            "469/469 [==============================] - 4s 9ms/step - loss: 0.6575 - accuracy: 0.7963 - val_loss: 0.4462 - val_accuracy: 0.8849\n",
            "Epoch 11/40\n",
            "469/469 [==============================] - 4s 9ms/step - loss: 0.6430 - accuracy: 0.8012 - val_loss: 0.4348 - val_accuracy: 0.8859\n",
            "Epoch 12/40\n",
            "469/469 [==============================] - 4s 9ms/step - loss: 0.6238 - accuracy: 0.8063 - val_loss: 0.4231 - val_accuracy: 0.8895\n",
            "Epoch 13/40\n",
            "469/469 [==============================] - 4s 9ms/step - loss: 0.6159 - accuracy: 0.8095 - val_loss: 0.4135 - val_accuracy: 0.8910\n",
            "Epoch 14/40\n",
            "469/469 [==============================] - 4s 9ms/step - loss: 0.6013 - accuracy: 0.8146 - val_loss: 0.4041 - val_accuracy: 0.8925\n",
            "Epoch 15/40\n",
            "469/469 [==============================] - 4s 9ms/step - loss: 0.5899 - accuracy: 0.8174 - val_loss: 0.3955 - val_accuracy: 0.8947\n",
            "Epoch 16/40\n",
            "469/469 [==============================] - 4s 10ms/step - loss: 0.5850 - accuracy: 0.8215 - val_loss: 0.3885 - val_accuracy: 0.8955\n",
            "Epoch 17/40\n",
            "469/469 [==============================] - 4s 9ms/step - loss: 0.5702 - accuracy: 0.8256 - val_loss: 0.3801 - val_accuracy: 0.8974\n",
            "Epoch 18/40\n",
            "469/469 [==============================] - 4s 9ms/step - loss: 0.5650 - accuracy: 0.8253 - val_loss: 0.3740 - val_accuracy: 0.8985\n",
            "Epoch 19/40\n",
            "469/469 [==============================] - 4s 9ms/step - loss: 0.5554 - accuracy: 0.8303 - val_loss: 0.3682 - val_accuracy: 0.8999\n",
            "Epoch 20/40\n",
            "469/469 [==============================] - 4s 9ms/step - loss: 0.5484 - accuracy: 0.8319 - val_loss: 0.3619 - val_accuracy: 0.9011\n",
            "Epoch 21/40\n",
            "469/469 [==============================] - 4s 9ms/step - loss: 0.5370 - accuracy: 0.8349 - val_loss: 0.3561 - val_accuracy: 0.9029\n",
            "Epoch 22/40\n",
            "469/469 [==============================] - 4s 9ms/step - loss: 0.5322 - accuracy: 0.8361 - val_loss: 0.3506 - val_accuracy: 0.9038\n",
            "Epoch 23/40\n",
            "469/469 [==============================] - 4s 9ms/step - loss: 0.5254 - accuracy: 0.8386 - val_loss: 0.3460 - val_accuracy: 0.9040\n",
            "Epoch 24/40\n",
            "469/469 [==============================] - 4s 9ms/step - loss: 0.5180 - accuracy: 0.8405 - val_loss: 0.3410 - val_accuracy: 0.9054\n",
            "Epoch 25/40\n",
            "469/469 [==============================] - 4s 9ms/step - loss: 0.5147 - accuracy: 0.8415 - val_loss: 0.3369 - val_accuracy: 0.9067\n",
            "Epoch 26/40\n",
            "469/469 [==============================] - 4s 9ms/step - loss: 0.5093 - accuracy: 0.8442 - val_loss: 0.3325 - val_accuracy: 0.9071\n",
            "Epoch 27/40\n",
            "469/469 [==============================] - 4s 9ms/step - loss: 0.5012 - accuracy: 0.8453 - val_loss: 0.3288 - val_accuracy: 0.9080\n",
            "Epoch 28/40\n",
            "469/469 [==============================] - 4s 9ms/step - loss: 0.4972 - accuracy: 0.8475 - val_loss: 0.3247 - val_accuracy: 0.9089\n",
            "Epoch 29/40\n",
            "469/469 [==============================] - 4s 9ms/step - loss: 0.4909 - accuracy: 0.8504 - val_loss: 0.3212 - val_accuracy: 0.9095\n",
            "Epoch 30/40\n",
            "469/469 [==============================] - 4s 9ms/step - loss: 0.4889 - accuracy: 0.8497 - val_loss: 0.3176 - val_accuracy: 0.9106\n",
            "Epoch 31/40\n",
            "469/469 [==============================] - 4s 9ms/step - loss: 0.4809 - accuracy: 0.8526 - val_loss: 0.3140 - val_accuracy: 0.9118\n",
            "Epoch 32/40\n",
            "469/469 [==============================] - 4s 9ms/step - loss: 0.4771 - accuracy: 0.8544 - val_loss: 0.3109 - val_accuracy: 0.9130\n",
            "Epoch 33/40\n",
            "469/469 [==============================] - 4s 9ms/step - loss: 0.4726 - accuracy: 0.8553 - val_loss: 0.3075 - val_accuracy: 0.9139\n",
            "Epoch 34/40\n",
            "469/469 [==============================] - 4s 10ms/step - loss: 0.4698 - accuracy: 0.8570 - val_loss: 0.3046 - val_accuracy: 0.9141\n",
            "Epoch 35/40\n",
            "469/469 [==============================] - 4s 9ms/step - loss: 0.4653 - accuracy: 0.8580 - val_loss: 0.3017 - val_accuracy: 0.9144\n",
            "Epoch 36/40\n",
            "469/469 [==============================] - 5s 10ms/step - loss: 0.4615 - accuracy: 0.8590 - val_loss: 0.2989 - val_accuracy: 0.9158\n",
            "Epoch 37/40\n",
            "469/469 [==============================] - 4s 9ms/step - loss: 0.4577 - accuracy: 0.8614 - val_loss: 0.2960 - val_accuracy: 0.9161\n",
            "Epoch 38/40\n",
            "469/469 [==============================] - 4s 9ms/step - loss: 0.4565 - accuracy: 0.8603 - val_loss: 0.2933 - val_accuracy: 0.9169\n",
            "Epoch 39/40\n",
            "469/469 [==============================] - 4s 9ms/step - loss: 0.4530 - accuracy: 0.8608 - val_loss: 0.2909 - val_accuracy: 0.9174\n",
            "Epoch 40/40\n",
            "469/469 [==============================] - 4s 9ms/step - loss: 0.4454 - accuracy: 0.8627 - val_loss: 0.2883 - val_accuracy: 0.9169\n"
          ]
        },
        {
          "output_type": "execute_result",
          "data": {
            "text/plain": [
              "<keras.callbacks.History at 0x7f28f87b1780>"
            ]
          },
          "metadata": {},
          "execution_count": 9
        }
      ]
    },
    {
      "cell_type": "code",
      "source": [
        "score = model.evaluate(x_test, y_test, verbose=0)\n",
        "print('Test loss:', score[0])\n",
        "print('Test accuracy:', score[1])\n"
      ],
      "metadata": {
        "colab": {
          "base_uri": "https://localhost:8080/"
        },
        "id": "khrKdVKix0Jy",
        "outputId": "be133f0a-dbe1-4f9d-b9b6-b5be0fef5684"
      },
      "execution_count": null,
      "outputs": [
        {
          "output_type": "stream",
          "name": "stdout",
          "text": [
            "Test loss: 0.2883390784263611\n",
            "Test accuracy: 0.9168999791145325\n"
          ]
        }
      ]
    },
    {
      "cell_type": "code",
      "source": [
        "model.save('trained_model.h5')"
      ],
      "metadata": {
        "id": "ybE9mpR7x6r4"
      },
      "execution_count": null,
      "outputs": []
    }
  ]
}